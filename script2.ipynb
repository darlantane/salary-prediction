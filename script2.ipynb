{
 "cells": [
  {
   "cell_type": "code",
   "execution_count": 1,
   "id": "6a30652a",
   "metadata": {},
   "outputs": [],
   "source": [
    "import pandas as pd\n",
    "import numpy as np\n",
    "import seaborn as sns\n",
    "import matplotlib.pyplot as plt\n",
    "import statsmodels.formula.api as smf\n",
    "import statsmodels.api as sm"
   ]
  },
  {
   "cell_type": "code",
   "execution_count": 31,
   "id": "e7f2a7ea",
   "metadata": {},
   "outputs": [
    {
     "data": {
      "text/html": [
       "<div>\n",
       "<style scoped>\n",
       "    .dataframe tbody tr th:only-of-type {\n",
       "        vertical-align: middle;\n",
       "    }\n",
       "\n",
       "    .dataframe tbody tr th {\n",
       "        vertical-align: top;\n",
       "    }\n",
       "\n",
       "    .dataframe thead th {\n",
       "        text-align: right;\n",
       "    }\n",
       "</style>\n",
       "<table border=\"1\" class=\"dataframe\">\n",
       "  <thead>\n",
       "    <tr style=\"text-align: right;\">\n",
       "      <th></th>\n",
       "      <th>Name</th>\n",
       "      <th>Age</th>\n",
       "      <th>Gender</th>\n",
       "      <th>JobRole</th>\n",
       "      <th>Experience</th>\n",
       "      <th>WorkHoursPerWeek</th>\n",
       "      <th>RemoteRatio</th>\n",
       "      <th>SatisfactionLevel</th>\n",
       "      <th>StressLevel</th>\n",
       "      <th>Burnout</th>\n",
       "    </tr>\n",
       "  </thead>\n",
       "  <tbody>\n",
       "    <tr>\n",
       "      <th>0</th>\n",
       "      <td>Max Ivanov</td>\n",
       "      <td>32</td>\n",
       "      <td>Male</td>\n",
       "      <td>Analyst</td>\n",
       "      <td>3</td>\n",
       "      <td>60</td>\n",
       "      <td>21</td>\n",
       "      <td>4.40</td>\n",
       "      <td>1</td>\n",
       "      <td>0</td>\n",
       "    </tr>\n",
       "    <tr>\n",
       "      <th>1</th>\n",
       "      <td>Max Wang</td>\n",
       "      <td>40</td>\n",
       "      <td>Female</td>\n",
       "      <td>Engineer</td>\n",
       "      <td>9</td>\n",
       "      <td>47</td>\n",
       "      <td>67</td>\n",
       "      <td>2.09</td>\n",
       "      <td>2</td>\n",
       "      <td>0</td>\n",
       "    </tr>\n",
       "    <tr>\n",
       "      <th>2</th>\n",
       "      <td>Nina Petrov</td>\n",
       "      <td>33</td>\n",
       "      <td>Female</td>\n",
       "      <td>Engineer</td>\n",
       "      <td>2</td>\n",
       "      <td>44</td>\n",
       "      <td>20</td>\n",
       "      <td>2.58</td>\n",
       "      <td>3</td>\n",
       "      <td>0</td>\n",
       "    </tr>\n",
       "    <tr>\n",
       "      <th>3</th>\n",
       "      <td>John Ivanov</td>\n",
       "      <td>35</td>\n",
       "      <td>Female</td>\n",
       "      <td>Manager</td>\n",
       "      <td>6</td>\n",
       "      <td>44</td>\n",
       "      <td>70</td>\n",
       "      <td>3.23</td>\n",
       "      <td>8</td>\n",
       "      <td>0</td>\n",
       "    </tr>\n",
       "    <tr>\n",
       "      <th>4</th>\n",
       "      <td>John Wang</td>\n",
       "      <td>59</td>\n",
       "      <td>Male</td>\n",
       "      <td>Sales</td>\n",
       "      <td>8</td>\n",
       "      <td>38</td>\n",
       "      <td>46</td>\n",
       "      <td>4.41</td>\n",
       "      <td>1</td>\n",
       "      <td>0</td>\n",
       "    </tr>\n",
       "    <tr>\n",
       "      <th>...</th>\n",
       "      <td>...</td>\n",
       "      <td>...</td>\n",
       "      <td>...</td>\n",
       "      <td>...</td>\n",
       "      <td>...</td>\n",
       "      <td>...</td>\n",
       "      <td>...</td>\n",
       "      <td>...</td>\n",
       "      <td>...</td>\n",
       "      <td>...</td>\n",
       "    </tr>\n",
       "    <tr>\n",
       "      <th>1995</th>\n",
       "      <td>Leo Brown</td>\n",
       "      <td>41</td>\n",
       "      <td>Female</td>\n",
       "      <td>Manager</td>\n",
       "      <td>4</td>\n",
       "      <td>63</td>\n",
       "      <td>17</td>\n",
       "      <td>3.40</td>\n",
       "      <td>4</td>\n",
       "      <td>0</td>\n",
       "    </tr>\n",
       "    <tr>\n",
       "      <th>1996</th>\n",
       "      <td>Alex Brown</td>\n",
       "      <td>23</td>\n",
       "      <td>Female</td>\n",
       "      <td>HR</td>\n",
       "      <td>2</td>\n",
       "      <td>39</td>\n",
       "      <td>20</td>\n",
       "      <td>4.67</td>\n",
       "      <td>9</td>\n",
       "      <td>0</td>\n",
       "    </tr>\n",
       "    <tr>\n",
       "      <th>1997</th>\n",
       "      <td>Nina Wang</td>\n",
       "      <td>31</td>\n",
       "      <td>Female</td>\n",
       "      <td>HR</td>\n",
       "      <td>10</td>\n",
       "      <td>39</td>\n",
       "      <td>4</td>\n",
       "      <td>4.10</td>\n",
       "      <td>4</td>\n",
       "      <td>0</td>\n",
       "    </tr>\n",
       "    <tr>\n",
       "      <th>1998</th>\n",
       "      <td>Kate Lee</td>\n",
       "      <td>25</td>\n",
       "      <td>Male</td>\n",
       "      <td>HR</td>\n",
       "      <td>0</td>\n",
       "      <td>40</td>\n",
       "      <td>57</td>\n",
       "      <td>2.11</td>\n",
       "      <td>4</td>\n",
       "      <td>0</td>\n",
       "    </tr>\n",
       "    <tr>\n",
       "      <th>1999</th>\n",
       "      <td>Lily Petrov</td>\n",
       "      <td>49</td>\n",
       "      <td>Female</td>\n",
       "      <td>Engineer</td>\n",
       "      <td>13</td>\n",
       "      <td>65</td>\n",
       "      <td>22</td>\n",
       "      <td>4.36</td>\n",
       "      <td>8</td>\n",
       "      <td>0</td>\n",
       "    </tr>\n",
       "  </tbody>\n",
       "</table>\n",
       "<p>2000 rows × 10 columns</p>\n",
       "</div>"
      ],
      "text/plain": [
       "             Name  Age  Gender   JobRole  Experience  WorkHoursPerWeek  \\\n",
       "0      Max Ivanov   32    Male   Analyst           3                60   \n",
       "1        Max Wang   40  Female  Engineer           9                47   \n",
       "2     Nina Petrov   33  Female  Engineer           2                44   \n",
       "3     John Ivanov   35  Female   Manager           6                44   \n",
       "4       John Wang   59    Male     Sales           8                38   \n",
       "...           ...  ...     ...       ...         ...               ...   \n",
       "1995    Leo Brown   41  Female   Manager           4                63   \n",
       "1996   Alex Brown   23  Female        HR           2                39   \n",
       "1997    Nina Wang   31  Female        HR          10                39   \n",
       "1998     Kate Lee   25    Male        HR           0                40   \n",
       "1999  Lily Petrov   49  Female  Engineer          13                65   \n",
       "\n",
       "      RemoteRatio  SatisfactionLevel  StressLevel  Burnout  \n",
       "0              21               4.40            1        0  \n",
       "1              67               2.09            2        0  \n",
       "2              20               2.58            3        0  \n",
       "3              70               3.23            8        0  \n",
       "4              46               4.41            1        0  \n",
       "...           ...                ...          ...      ...  \n",
       "1995           17               3.40            4        0  \n",
       "1996           20               4.67            9        0  \n",
       "1997            4               4.10            4        0  \n",
       "1998           57               2.11            4        0  \n",
       "1999           22               4.36            8        0  \n",
       "\n",
       "[2000 rows x 10 columns]"
      ]
     },
     "execution_count": 31,
     "metadata": {},
     "output_type": "execute_result"
    }
   ],
   "source": [
    "data = pd.read_csv(\"synthetic_employee_burnout.csv\")\n",
    "data"
   ]
  },
  {
   "cell_type": "code",
   "execution_count": 3,
   "id": "58215994",
   "metadata": {},
   "outputs": [
    {
     "data": {
      "text/plain": [
       "(2000, 10)"
      ]
     },
     "execution_count": 3,
     "metadata": {},
     "output_type": "execute_result"
    }
   ],
   "source": [
    "data.shape"
   ]
  },
  {
   "cell_type": "code",
   "execution_count": 5,
   "id": "e0a74ba7",
   "metadata": {},
   "outputs": [
    {
     "data": {
      "image/png": "[encoded data removed]",
      "text/plain": [
       "<Figure size 640x480 with 2 Axes>"
      ]
     },
     "metadata": {},
     "output_type": "display_data"
    }
   ],
   "source": [
    "sns.heatmap(data.corr(numeric_only=True), annot=True, cmap='coolwarm')\n",
    "plt.title(\"Corrélations entre variables numériques\")\n",
    "plt.show()"
   ]
  },
  {
   "cell_type": "code",
   "execution_count": 7,
   "id": "814c2928",
   "metadata": {},
   "outputs": [
    {
     "name": "stdout",
     "output_type": "stream",
     "text": [
      "Optimization terminated successfully.\n",
      "         Current function value: 0.078848\n",
      "         Iterations 11\n",
      "                           Logit Regression Results                           \n",
      "==============================================================================\n",
      "Dep. Variable:                Burnout   No. Observations:                 2000\n",
      "Model:                          Logit   Df Residuals:                     1988\n",
      "Method:                           MLE   Df Model:                           11\n",
      "Date:                Sun, 20 Jul 2025   Pseudo R-squ.:                  0.6703\n",
      "Time:                        10:08:25   Log-Likelihood:                -157.70\n",
      "converged:                       True   LL-Null:                       -478.35\n",
      "Covariance Type:            nonrobust   LLR p-value:                2.028e-130\n",
      "=======================================================================================\n",
      "                          coef    std err          z      P>|z|      [0.025      0.975]\n",
      "---------------------------------------------------------------------------------------\n",
      "Intercept             -22.0902      2.169    -10.186      0.000     -26.341     -17.839\n",
      "Gender[T.Male]          0.0888      0.294      0.302      0.763      -0.488       0.665\n",
      "JobRole[T.Engineer]     0.3264      0.487      0.670      0.503      -0.628       1.281\n",
      "JobRole[T.HR]           0.2501      0.481      0.520      0.603      -0.693       1.194\n",
      "JobRole[T.Manager]      0.0789      0.465      0.170      0.865      -0.833       0.991\n",
      "JobRole[T.Sales]        0.2289      0.469      0.488      0.625      -0.690       1.148\n",
      "Age                    -0.0081      0.016     -0.509      0.611      -0.039       0.023\n",
      "Experience              0.0101      0.019      0.516      0.606      -0.028       0.048\n",
      "WorkHoursPerWeek        0.2278      0.023      9.777      0.000       0.182       0.273\n",
      "RemoteRatio            -0.0036      0.005     -0.704      0.482      -0.013       0.006\n",
      "SatisfactionLevel      -2.3404      0.229    -10.240      0.000      -2.788      -1.892\n",
      "StressLevel             1.5825      0.156     10.155      0.000       1.277       1.888\n",
      "=======================================================================================\n",
      "\n",
      "Possibly complete quasi-separation: A fraction 0.52 of observations can be\n",
      "perfectly predicted. This might indicate that there is complete\n",
      "quasi-separation. In this case some parameters will not be identified.\n"
     ]
    }
   ],
   "source": [
    "model = smf.logit('Burnout ~ Age + Gender + JobRole +\tExperience + WorkHoursPerWeek +\tRemoteRatio + SatisfactionLevel + StressLevel', data=data).fit()\n",
    "print(model.summary())"
   ]
  },
  {
   "cell_type": "code",
   "execution_count": 8,
   "id": "30b4b965",
   "metadata": {},
   "outputs": [
    {
     "name": "stdout",
     "output_type": "stream",
     "text": [
      "Intercept             -22.090163\n",
      "Gender[T.Male]          0.088791\n",
      "JobRole[T.Engineer]     0.326385\n",
      "JobRole[T.HR]           0.250103\n",
      "JobRole[T.Manager]      0.078950\n",
      "JobRole[T.Sales]        0.228949\n",
      "Age                    -0.008115\n",
      "Experience              0.010052\n",
      "WorkHoursPerWeek        0.227795\n",
      "RemoteRatio            -0.003560\n",
      "SatisfactionLevel      -2.340390\n",
      "StressLevel             1.582468\n",
      "dtype: float64\n"
     ]
    }
   ],
   "source": [
    "print(model.params)"
   ]
  },
  {
   "cell_type": "code",
   "execution_count": 9,
   "id": "2682d09d",
   "metadata": {},
   "outputs": [
    {
     "name": "stdout",
     "output_type": "stream",
     "text": [
      "Intercept              2.300382e-24\n",
      "Gender[T.Male]         7.628016e-01\n",
      "JobRole[T.Engineer]    5.027256e-01\n",
      "JobRole[T.HR]          6.033974e-01\n",
      "JobRole[T.Manager]     8.652409e-01\n",
      "JobRole[T.Sales]       6.252763e-01\n",
      "Age                    6.108886e-01\n",
      "Experience             6.061628e-01\n",
      "WorkHoursPerWeek       1.418990e-22\n",
      "RemoteRatio            4.815362e-01\n",
      "SatisfactionLevel      1.309038e-24\n",
      "StressLevel            3.159120e-24\n",
      "dtype: float64\n"
     ]
    }
   ],
   "source": [
    "print(model.pvalues)"
   ]
  },
  {
   "cell_type": "code",
   "execution_count": 19,
   "id": "190b2d69",
   "metadata": {},
   "outputs": [
    {
     "name": "stdout",
     "output_type": "stream",
     "text": [
      "               Variable        VIF\n",
      "0             Intercept  51.816619\n",
      "1        Gender[T.Male]   1.006372\n",
      "2   JobRole[T.Engineer]   1.564583\n",
      "3         JobRole[T.HR]   1.574146\n",
      "4    JobRole[T.Manager]   1.598536\n",
      "5      JobRole[T.Sales]   1.570443\n",
      "6                   Age   1.698354\n",
      "7            Experience   1.698649\n",
      "8      WorkHoursPerWeek   1.003175\n",
      "9           RemoteRatio   1.008980\n",
      "10    SatisfactionLevel   1.006029\n",
      "11          StressLevel   1.004584\n"
     ]
    }
   ],
   "source": [
    "from statsmodels.stats.outliers_influence import variance_inflation_factor\n",
    "from patsy import dmatrices\n",
    "\n",
    "y, X = dmatrices('Burnout ~ Age + Gender + JobRole + Experience + WorkHoursPerWeek + RemoteRatio + SatisfactionLevel + StressLevel', data=data, return_type='dataframe')\n",
    "vif = pd.DataFrame()\n",
    "vif['Variable'] = X.columns\n",
    "vif['VIF'] = [variance_inflation_factor(X.values, i) for i in range(X.shape[1])]\n",
    "print(vif)"
   ]
  },
  {
   "cell_type": "code",
   "execution_count": 36,
   "id": "7f8122d7",
   "metadata": {},
   "outputs": [
    {
     "name": "stdout",
     "output_type": "stream",
     "text": [
      "0    0.990265\n",
      "dtype: float64\n"
     ]
    }
   ],
   "source": [
    "new_data = pd.DataFrame({\n",
    "    'Age': [52],\n",
    "    'Gender': ['Male'],\n",
    "    'JobRole': [\"Sales\"],\n",
    "    'Experience': [8],\n",
    "    'WorkHoursPerWeek': [61],\n",
    "    'RemoteRatio': [23],\n",
    "    'SatisfactionLevel': [1.24],\n",
    "    'StressLevel': [10]\n",
    "})\n",
    "\n",
    "predicted_burnout = model.predict(new_data)\n",
    "print(predicted_burnout)"
   ]
  },
  {
   "cell_type": "code",
   "execution_count": null,
   "id": "a907c7b2",
   "metadata": {},
   "outputs": [],
   "source": []
  }
 ],
 "metadata": {
  "kernelspec": {
   "display_name": "Python 3",
   "language": "python",
   "name": "python3"
  },
  "language_info": {
   "codemirror_mode": {
    "name": "ipython",
    "version": 3
   },
   "file_extension": ".py",
   "mimetype": "text/x-python",
   "name": "python",
   "nbconvert_exporter": "python",
   "pygments_lexer": "ipython3",
   "version": "3.13.2"
  }
 },
 "nbformat": 4,
 "nbformat_minor": 5
}
